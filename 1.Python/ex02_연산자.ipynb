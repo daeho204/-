{
 "cells": [
  {
   "attachments": {
    "image.png": {
     "image/png": "[encoded data removed]"
    }
   },
   "cell_type": "markdown",
   "id": "c83ef0b1",
   "metadata": {},
   "source": [
    "### 연산자\n",
    "![image.png](attachment:image.png)"
   ]
  },
  {
   "cell_type": "code",
   "execution_count": 19,
   "id": "76b8f936",
   "metadata": {},
   "outputs": [
    {
     "name": "stdout",
     "output_type": "stream",
     "text": [
      "안녕하세요 :D\n"
     ]
    }
   ],
   "source": [
    "#문자열 더하기\n",
    "\n",
    "str1 = \"안녕\"\n",
    "str2 = \"하세요 :D\"\n",
    "print(str1+str2)\n",
    "print(str1,str2)\n",
    "print(str1, str2 , sep='')"
   ]
  },
  {
   "cell_type": "code",
   "execution_count": 20,
   "id": "86a62543",
   "metadata": {},
   "outputs": [
    {
     "name": "stdout",
     "output_type": "stream",
     "text": [
      "107\n"
     ]
    }
   ],
   "source": [
    "str3 = \"10\"\n",
    "str4 = \"7\"\n",
    "print(str3 + str4)"
   ]
  },
  {
   "cell_type": "code",
   "execution_count": 24,
   "id": "5b28b263",
   "metadata": {},
   "outputs": [
    {
     "name": "stdout",
     "output_type": "stream",
     "text": [
      "17\n",
      "107\n"
     ]
    }
   ],
   "source": [
    "#숫자와 문자열끼리는 연산 또는 붙이기가 불가\n",
    "num1 = 10\n",
    "str2 = \"7\"\n",
    "print(num1 + str2) #불가능한 연산\n",
    "print(num1 + int(str2)) #문자형을 정수형으로 형변환\n",
    "print(str(num1) + str2) #정수형을 문자열로 형변환\n",
    "\n"
   ]
  },
  {
   "cell_type": "markdown",
   "id": "96bc68b2",
   "metadata": {},
   "source": [
    "#### 산술연산자\n",
    "- / : 나누기\n",
    "- //  : 몫\n",
    "- % : 나머지"
   ]
  },
  {
   "cell_type": "code",
   "execution_count": 25,
   "id": "937e8cfc",
   "metadata": {},
   "outputs": [
    {
     "name": "stdout",
     "output_type": "stream",
     "text": [
      "3.3333333333333335\n",
      "3\n",
      "1\n"
     ]
    }
   ],
   "source": [
    "num1 = 10\n",
    "num2 = 3\n",
    "\n",
    "print(num1 / num2)\n",
    "print(num1 // num2)\n",
    "print(num1 % num2)"
   ]
  },
  {
   "cell_type": "code",
   "execution_count": 28,
   "id": "d684021b",
   "metadata": {},
   "outputs": [
    {
     "name": "stdout",
     "output_type": "stream",
     "text": [
      "여기다가 적으세요! >> asd\n"
     ]
    },
    {
     "data": {
      "text/plain": [
       "'asd'"
      ]
     },
     "execution_count": 28,
     "metadata": {},
     "output_type": "execute_result"
    }
   ],
   "source": [
    "#키보드로 입력받는 함수\n",
    "#input(\"안내문구\") \n",
    "\n",
    "#input()의 주의사항\n",
    "# 1. 기본반환값은 문자열(String)이다\n",
    "# 2. 실행을 완료(입력완료)를 해야지만 다음코드를 수행한다.\n",
    "\n",
    "a = input  (\"여기다가 적으세요! >> \")\n",
    "a"
   ]
  },
  {
   "cell_type": "code",
   "execution_count": 38,
   "id": "62ff15c9",
   "metadata": {},
   "outputs": [
    {
     "name": "stdout",
     "output_type": "stream",
     "text": [
      "정수를 입력하세요 : 3\n",
      "정수를 입력하세요 : 4\n",
      "더하기 결과 : 7 \n",
      "빼기 결과 : -1\n",
      "곱하기 결과 : 12\n",
      "나누기 결과 : 0.75\n"
     ]
    }
   ],
   "source": [
    "num1 = int(input(\"정수를 입력하세요 : \"))\n",
    "num2 = int(input(\"정수를 입력하세요 : \"))\n",
    "print(f\"더하기 결과 : {num1 + num2} \" )\n",
    "print(\"빼기 결과 :\", num1 - num2)\n",
    "print(\"곱하기 결과 :\", num1 * num2)\n",
    "print(\"나누기 결과 :\", num1 / num2)"
   ]
  },
  {
   "cell_type": "code",
   "execution_count": 39,
   "id": "16d16f0e",
   "metadata": {},
   "outputs": [
    {
     "name": "stdout",
     "output_type": "stream",
     "text": [
      "별 입력3\n",
      "*\n",
      "**\n",
      "***\n"
     ]
    }
   ],
   "source": [
    "#문자열 곱하기 -> 해당 개수만큼 반복\n",
    "cnt = int(input(\"별 입력\"))\n",
    "for i in range(1,cnt+1):\n",
    "    print(\"*\" * i)"
   ]
  },
  {
   "cell_type": "markdown",
   "id": "96e9305c",
   "metadata": {},
   "source": [
    "#### 관계연산자\n",
    "- 두 값을 비교하여 True / False 를 반환\n",
    "- >, < , >=, <=, ==, !="
   ]
  },
  {
   "cell_type": "markdown",
   "id": "40eb96cd",
   "metadata": {},
   "source": [
    "#### 대입, 복합대입 연산자\n",
    "- = : 대입, 값을 할당 시 사용\n",
    "- +=, -=, *= ... : 누적할 때 사용"
   ]
  },
  {
   "cell_type": "markdown",
   "id": "1a742f3b",
   "metadata": {},
   "source": [
    "#### 논리연산자\n",
    "- True, False 를 계산하기 위한 연산자\n",
    "- and : 둘 다 True인 경우 True, 나머지는 False\n",
    "- or : 하나라도 True 라면 True, 둘다 False 일때만 False\n",
    "- not : True이면 False, False라면 True를 반환"
   ]
  },
  {
   "cell_type": "markdown",
   "id": "2902e895",
   "metadata": {},
   "source": [
    "#### 멤버연산자\n",
    "- for문의 in : 들여다 보겠다는 뜻\n",
    "- in : Sequence 자료구조 (문자열, 배열...)에서 해당 값이 대상 객체안에 존재하면 True\n",
    "- not in : 해당 값이 대상 객체에 존재하지 않으면 True"
   ]
  },
  {
   "cell_type": "markdown",
   "id": "2e6c735d",
   "metadata": {},
   "source": [
    "#### 삼항연산자\n",
    "- 이진 분류 시 사용\n",
    "- a if 조건식 else b \n",
    "    - 조건식이 True인경우 a\n",
    "    - 조건식이 False인 경우 b"
   ]
  },
  {
   "cell_type": "code",
   "execution_count": 40,
   "id": "21d8338a",
   "metadata": {},
   "outputs": [
    {
     "data": {
      "text/plain": [
       "'합격'"
      ]
     },
     "execution_count": 40,
     "metadata": {},
     "output_type": "execute_result"
    }
   ],
   "source": [
    "score = 80\n",
    "\"합격\" if score >= 60 else \"불합격\""
   ]
  },
  {
   "cell_type": "code",
   "execution_count": 45,
   "id": "76e671ae",
   "metadata": {},
   "outputs": [
    {
     "name": "stdout",
     "output_type": "stream",
     "text": [
      "첫번째 수를 입력해주세요 >>3\n",
      "두번째 수를 입력해주세요 >>2\n",
      "두 수의 차: 1 \n"
     ]
    }
   ],
   "source": [
    "#두 수를 입력받아서 큰 수에서 작은 수를 뺀 결과값을 출력\n",
    "num1 = int(input(\"첫번째 수를 입력해주세요 >>\"))\n",
    "num2 = int(input(\"두번째 수를 입력해주세요 >>\"))\n",
    "print(f\"두 수의 차: {num1 - num2} \") if num1 > num2 else print(f\"두 수의 차: {num2 - num1}\")"
   ]
  },
  {
   "cell_type": "code",
   "execution_count": null,
   "id": "9543fd3b",
   "metadata": {},
   "outputs": [],
   "source": []
  }
 ],
 "metadata": {
  "kernelspec": {
   "display_name": "Python 3 (ipykernel)",
   "language": "python",
   "name": "python3"
  },
  "language_info": {
   "codemirror_mode": {
    "name": "ipython",
    "version": 3
   },
   "file_extension": ".py",
   "mimetype": "text/x-python",
   "name": "python",
   "nbconvert_exporter": "python",
   "pygments_lexer": "ipython3",
   "version": "3.11.5"
  }
 },
 "nbformat": 4,
 "nbformat_minor": 5
}
