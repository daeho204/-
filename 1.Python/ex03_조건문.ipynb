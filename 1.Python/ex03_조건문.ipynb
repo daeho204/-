{
 "cells": [
  {
   "cell_type": "markdown",
   "id": "37f4d95d",
   "metadata": {},
   "source": [
    "### 조건문\n",
    "- 상황에 따라 실행 흐름을 다르게 하는 문법\n",
    "- 키워드 : if, elif, else\n",
    "- 콜론(:) 과 들여쓰기 (tab, space bar * 4) 문법이 매우 중요"
   ]
  },
  {
   "cell_type": "code",
   "execution_count": 4,
   "id": "dd8c9682",
   "metadata": {},
   "outputs": [
    {
     "name": "stdout",
     "output_type": "stream",
     "text": [
      "가지고 있는 돈을 입력 >>9000\n",
      "버스탐\n"
     ]
    }
   ],
   "source": [
    "#10000원 이상이면 택시를 탄다\n",
    "#10000원 미만, 5000원 이상이면 버스를 탄다\n",
    "#그 외는 걸어간다\n",
    "\n",
    "money = int(input(\"가지고 있는 돈을 입력 >>\"))\n",
    "if money>=10000:\n",
    "    print(\"택시탐\")\n",
    "elif money>=5000:\n",
    "    print(\"버스탐\")\n",
    "else:\n",
    "    print(\"걸어감\")\n",
    "        "
   ]
  },
  {
   "cell_type": "code",
   "execution_count": 15,
   "id": "a236480d",
   "metadata": {},
   "outputs": [
    {
     "name": "stdout",
     "output_type": "stream",
     "text": [
      "입력값 >>3\n"
     ]
    }
   ],
   "source": [
    "#사용자의 입력값을 받아서 3과 5의 배수인지 확인하는 프로그램\n",
    "\n",
    "# and, or 논리연산자 : 단일 값 계산 시, 활용\n",
    "# &, | 비트연산자 : 사용 시 소괄호 사용해야 우선순위가 적용이된다. 다중 값 계산 시, 사용한다.\n",
    "num1 = int(input(\"입력값 >>\"))\n",
    "# (if num1 % 3 == 0) & (num1 % 5 == 0):\n",
    "if num1 % 3 == 0 and num1 % 5 == 0 :\n",
    "    print(\"3과 5의 배수입니다\")\n",
    "else:\n",
    "    print(\"3과 5의 배수가 아닙니다.\")\n",
    "    "
   ]
  },
  {
   "cell_type": "code",
   "execution_count": 20,
   "id": "bfefb199",
   "metadata": {},
   "outputs": [
    {
     "name": "stdout",
     "output_type": "stream",
     "text": [
      "첫 번째 정수 입력>>> 15\n",
      "두 번째 정수 입력>>> 3\n",
      "첫번째 정수가 더 큰 숫자입니다.\n"
     ]
    }
   ],
   "source": [
    "#변수 num1 과 num2에 숫자를 입력받아 크기를 비교하시오\n",
    "\n",
    "num1 = int(input(\"첫 번째 정수 입력>>> \"))\n",
    "num2 = int(input(\"두 번째 정수 입력>>> \"))\n",
    "if num1 > num2 :\n",
    "    print(\"첫번째 정수가 더 큰 숫자입니다.\")\n",
    "elif num1 < num2:\n",
    "    print(\"두번째 정수가 더 큰 숫자입니다.\")\n",
    "else:\n",
    "    print(\"두 수의 크기가 같습니다\")"
   ]
  },
  {
   "cell_type": "code",
   "execution_count": null,
   "id": "458a8c25",
   "metadata": {},
   "outputs": [],
   "source": [
    "score = int(input(\"점수 입력>> \"))\n",
    "if score <= 100 and score >= 0:\n",
    "    if score >= 90:\n",
    "        grade = 'A'\n",
    "    elif score >= 80:\n",
    "        grade = 'B'\n",
    "    elif score >= 70:\n",
    "        grade = 'C'\n",
    "    elif score >= 60:\n",
    "        grade = 'D'\n",
    "    else:\n",
    "        grade = 'F'\n",
    "    print(f\"{score}점은 {grade}학점 입니다.\")\n",
    "else:\n",
    "    print(\"잘못 입력하셨습니다\")"
   ]
  },
  {
   "cell_type": "code",
   "execution_count": null,
   "id": "97c66000",
   "metadata": {},
   "outputs": [],
   "source": []
  },
  {
   "cell_type": "code",
   "execution_count": null,
   "id": "d40cf86a",
   "metadata": {},
   "outputs": [],
   "source": []
  },
  {
   "cell_type": "code",
   "execution_count": null,
   "id": "ec3bd822",
   "metadata": {},
   "outputs": [],
   "source": []
  },
  {
   "cell_type": "code",
   "execution_count": null,
   "id": "e79919c0",
   "metadata": {},
   "outputs": [],
   "source": []
  },
  {
   "cell_type": "code",
   "execution_count": null,
   "id": "4d00f044",
   "metadata": {},
   "outputs": [],
   "source": []
  },
  {
   "cell_type": "code",
   "execution_count": null,
   "id": "7ec25408",
   "metadata": {},
   "outputs": [],
   "source": []
  },
  {
   "cell_type": "code",
   "execution_count": null,
   "id": "d84eb227",
   "metadata": {},
   "outputs": [],
   "source": []
  },
  {
   "cell_type": "code",
   "execution_count": null,
   "id": "edebbd42",
   "metadata": {},
   "outputs": [],
   "source": []
  },
  {
   "cell_type": "code",
   "execution_count": null,
   "id": "3776fbaf",
   "metadata": {},
   "outputs": [],
   "source": []
  },
  {
   "cell_type": "code",
   "execution_count": null,
   "id": "65dfab38",
   "metadata": {},
   "outputs": [],
   "source": []
  },
  {
   "cell_type": "code",
   "execution_count": null,
   "id": "d190fe80",
   "metadata": {},
   "outputs": [],
   "source": []
  }
 ],
 "metadata": {
  "kernelspec": {
   "display_name": "Python 3 (ipykernel)",
   "language": "python",
   "name": "python3"
  },
  "language_info": {
   "codemirror_mode": {
    "name": "ipython",
    "version": 3
   },
   "file_extension": ".py",
   "mimetype": "text/x-python",
   "name": "python",
   "nbconvert_exporter": "python",
   "pygments_lexer": "ipython3",
   "version": "3.11.5"
  }
 },
 "nbformat": 4,
 "nbformat_minor": 5
}
