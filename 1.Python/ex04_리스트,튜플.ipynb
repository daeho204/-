{
 "cells": [
  {
   "cell_type": "markdown",
   "id": "871c343d",
   "metadata": {},
   "source": [
    "### 1. 리스트\n",
    "- <b>순서가 있는</b>(=인덱스가 존재하는) <b>수정 가능</b>한 객체의 집합\n",
    "- 대괄호 \"[ ]\"로 작성되어지며, 리스트 내부의 요소(값,객체)들은 컴마 \",\" 로 구분\n"
   ]
  },
  {
   "cell_type": "code",
   "execution_count": 11,
   "id": "6aa86986",
   "metadata": {},
   "outputs": [
    {
     "data": {
      "text/plain": [
       "[2, 'my', ['name', 'is']]"
      ]
     },
     "execution_count": 11,
     "metadata": {},
     "output_type": "execute_result"
    }
   ],
   "source": [
    "#리스트 생성\n",
    "list1 = []\n",
    "list2 = [1,2,3]\n",
    "list3 = [1.1, 2.2, 3.3]\n",
    "list4 = ['my', 'name', 'is', 'bg']\n",
    "list5 = ['my', 'name', 1, 2]\n",
    "list6 = [1,2,'my', ['name', 'is']]\n"
   ]
  },
  {
   "cell_type": "markdown",
   "id": "133aeb3e",
   "metadata": {},
   "source": [
    "#### 리스트 인덱싱, 슬라이싱\n",
    "- 인덱싱 : 무엇인가를 가르킨다\n",
    "- 슬라이싱 : 무엇인가를 잘라낸다\n"
   ]
  },
  {
   "cell_type": "code",
   "execution_count": 14,
   "id": "bf1499c2",
   "metadata": {},
   "outputs": [
    {
     "data": {
      "text/plain": [
       "'b'"
      ]
     },
     "execution_count": 14,
     "metadata": {},
     "output_type": "execute_result"
    }
   ],
   "source": [
    "#인덱싱\n",
    "list1 = [2,5,7,9,10]\n",
    "list1[3]\n",
    "list2 = [1,2,3,['a','b','c']]\n",
    "list2[3][1]"
   ]
  },
  {
   "cell_type": "code",
   "execution_count": 26,
   "id": "b91a2a4b",
   "metadata": {},
   "outputs": [
    {
     "data": {
      "text/plain": [
       "[0, 1, 2, 3, 4, 0, 1, 2, 3, 4, 0, 1, 2, 3, 4]"
      ]
     },
     "execution_count": 26,
     "metadata": {},
     "output_type": "execute_result"
    }
   ],
   "source": [
    "#슬라이싱\n",
    "list3 = [0,1,2,3,4]\n",
    "list3[1:3]\n",
    "\n",
    "#이어붙이기 : 리스트간의 연산이 가능함\n",
    "list3 + list3 \n",
    "list3 * 3"
   ]
  },
  {
   "cell_type": "markdown",
   "id": "540c22fa",
   "metadata": {},
   "source": [
    "#### 리스트 값 추가\n",
    "- append(값) : 맨 뒤에 요소 추가\n",
    "- insert(인덱스, 값) : 원하는 인덱스에 요소 추가"
   ]
  },
  {
   "cell_type": "code",
   "execution_count": 29,
   "id": "23825d46",
   "metadata": {},
   "outputs": [
    {
     "data": {
      "text/plain": [
       "[0, 1, 2, 3, 4, 5, 5]"
      ]
     },
     "execution_count": 29,
     "metadata": {},
     "output_type": "execute_result"
    }
   ],
   "source": [
    "#append\n",
    "list3.append(5)\n",
    "list3"
   ]
  },
  {
   "cell_type": "code",
   "execution_count": 31,
   "id": "4a5d9a25",
   "metadata": {},
   "outputs": [
    {
     "data": {
      "text/plain": [
       "[0, 1, 2, 10, 3, 4, 5, 5]"
      ]
     },
     "execution_count": 31,
     "metadata": {},
     "output_type": "execute_result"
    }
   ],
   "source": [
    "#insert\n",
    "list3.insert(3,10)\n",
    "list3"
   ]
  },
  {
   "cell_type": "markdown",
   "id": "5eafde87",
   "metadata": {},
   "source": [
    "#### 리스트 값 수정\n",
    "- 지정하고 대입"
   ]
  },
  {
   "cell_type": "code",
   "execution_count": 34,
   "id": "3ca928c3",
   "metadata": {},
   "outputs": [
    {
     "data": {
      "text/plain": [
       "[0, 1, 2, 7, 3, 4]"
      ]
     },
     "execution_count": 34,
     "metadata": {},
     "output_type": "execute_result"
    }
   ],
   "source": [
    "#update\n",
    "list3[3] = 7\n",
    "list3"
   ]
  },
  {
   "cell_type": "markdown",
   "id": "60817fd5",
   "metadata": {},
   "source": [
    "#### 리스트값 삭제\n",
    "- del 인덱싱 : 지정된 요소(들) 삭제  #del은 함수가 아닌 객체임\n",
    "- remove(값) : 리스트 안의 지정된 값을 지운다 (가장 처음만나는 값)."
   ]
  },
  {
   "cell_type": "code",
   "execution_count": 37,
   "id": "4eabf672",
   "metadata": {},
   "outputs": [
    {
     "data": {
      "text/plain": [
       "[0, 1, 2, 4]"
      ]
     },
     "execution_count": 37,
     "metadata": {},
     "output_type": "execute_result"
    }
   ],
   "source": [
    "#인덱싱 후 삭제\n",
    "del list3[3]\n",
    "list3"
   ]
  },
  {
   "cell_type": "code",
   "execution_count": 41,
   "id": "12a1d383",
   "metadata": {},
   "outputs": [
    {
     "data": {
      "text/plain": [
       "[0]"
      ]
     },
     "execution_count": 41,
     "metadata": {},
     "output_type": "execute_result"
    }
   ],
   "source": [
    "#슬라이싱 후 삭제\n",
    "del list3[1:10] #뒤에는 인덱스 길이보다 길어도 상관X\n",
    "list3"
   ]
  },
  {
   "cell_type": "code",
   "execution_count": 46,
   "id": "557abc75",
   "metadata": {},
   "outputs": [
    {
     "data": {
      "text/plain": [
       "['a', 'b', 'b', 'c', 'd']"
      ]
     },
     "execution_count": 46,
     "metadata": {},
     "output_type": "execute_result"
    }
   ],
   "source": [
    "#remove (입력한 값을 리스트에서 가장 처음 만날 때 그 값을 삭제)\n",
    "list4 = ['a', 'b', 'b', 'b', 'c', 'd']\n",
    "list4.remove('b')\n",
    "list4"
   ]
  },
  {
   "cell_type": "code",
   "execution_count": 47,
   "id": "28761375",
   "metadata": {},
   "outputs": [
    {
     "data": {
      "text/plain": [
       "'b'"
      ]
     },
     "execution_count": 47,
     "metadata": {},
     "output_type": "execute_result"
    }
   ],
   "source": [
    "#pop(index) : 리스트에서 값을 꺼낸 다음 삭제 (꺼낸 값을 사용가능)\n",
    "temp = list4.pop(1) #1번 인덱스의 값을 꺼내서 temp에 저장하면 그 값 사용가능. remove나 del은 불가능\n",
    "temp"
   ]
  },
  {
   "cell_type": "code",
   "execution_count": 48,
   "id": "9ea1a94f",
   "metadata": {},
   "outputs": [
    {
     "data": {
      "text/plain": [
       "['a', 'b', 'c', 'd']"
      ]
     },
     "execution_count": 48,
     "metadata": {},
     "output_type": "execute_result"
    }
   ],
   "source": [
    "list4"
   ]
  },
  {
   "cell_type": "markdown",
   "id": "992e351a",
   "metadata": {},
   "source": [
    "#### 리스트 정렬 및 길이확인\n",
    "- sort() : 리스트 오름차순 정렬\n",
    "- len() : 길이확인"
   ]
  },
  {
   "cell_type": "code",
   "execution_count": 52,
   "id": "51b11adb",
   "metadata": {},
   "outputs": [
    {
     "data": {
      "text/plain": [
       "['d', 'c', 'b', 'a']"
      ]
     },
     "execution_count": 52,
     "metadata": {},
     "output_type": "execute_result"
    }
   ],
   "source": [
    "#sort 를 reverse값으로 오름차순 내림차순 설정해서 정렬가능 (새로업데이트됨)\n",
    "list4.sort(reverse = True)\n",
    "list4"
   ]
  },
  {
   "cell_type": "code",
   "execution_count": 59,
   "id": "81899050",
   "metadata": {},
   "outputs": [
    {
     "data": {
      "text/plain": [
       "[2, 9, 11, 13, 51, 100]"
      ]
     },
     "execution_count": 59,
     "metadata": {},
     "output_type": "execute_result"
    }
   ],
   "source": [
    "list5 = [9, 11, 13, 51, 100, 2]\n",
    "list5.sort()\n",
    "list5"
   ]
  },
  {
   "cell_type": "code",
   "execution_count": 61,
   "id": "382a6f10",
   "metadata": {},
   "outputs": [
    {
     "data": {
      "text/plain": [
       "6"
      ]
     },
     "execution_count": 61,
     "metadata": {},
     "output_type": "execute_result"
    }
   ],
   "source": [
    "#길이확인\n",
    "len(list5)"
   ]
  },
  {
   "cell_type": "markdown",
   "id": "4b38fc9e",
   "metadata": {},
   "source": [
    "### 2. 튜플(tuple)\n",
    "- <b>순서가 있는</b> (인덱스가 존재) <b>수정 불가능</b>한 객체의 집합\n",
    "- 소괄호 \"( )\"로 작성되어지며, 튜블 내부의 요소들은 콤마 \",\"로 구분"
   ]
  },
  {
   "cell_type": "code",
   "execution_count": 64,
   "id": "92216ea0",
   "metadata": {},
   "outputs": [
    {
     "data": {
      "text/plain": [
       "(1, 2, (3, 4), [5, 6, 7])"
      ]
     },
     "execution_count": 64,
     "metadata": {},
     "output_type": "execute_result"
    }
   ],
   "source": [
    "# 튜블 생성\n",
    "tuple1 = ()\n",
    "tuple2 = (1,2,3)\n",
    "tuple3 = (1.1, 2.2, 3.3)\n",
    "tuple4 = ('a', 'b', 'c', 'd')\n",
    "tuple5 = ('a', 'b', 1, 2)\n",
    "tuple6 = (1, 2, (3, 4), [5, 6])\n",
    "#tuple안의 리스트는 수정 가능\n",
    "tuple6[3].append(7)\n",
    "tuple6\n",
    "#튜블은 수정 불가\n",
    "tuple6[2][0] = 1"
   ]
  },
  {
   "cell_type": "code",
   "execution_count": 65,
   "id": "b0cb4213",
   "metadata": {},
   "outputs": [
    {
     "data": {
      "text/plain": [
       "(2, (3, 4), [5, 6, 7])"
      ]
     },
     "execution_count": 65,
     "metadata": {},
     "output_type": "execute_result"
    }
   ],
   "source": [
    "#인덱싱/슬라이싱\n",
    "tuple6[1:]"
   ]
  },
  {
   "cell_type": "code",
   "execution_count": 66,
   "id": "02635af0",
   "metadata": {},
   "outputs": [
    {
     "data": {
      "text/plain": [
       "4"
      ]
     },
     "execution_count": 66,
     "metadata": {},
     "output_type": "execute_result"
    }
   ],
   "source": [
    "#길이확인\n",
    "len(tuple6)"
   ]
  },
  {
   "cell_type": "code",
   "execution_count": null,
   "id": "950af0df",
   "metadata": {},
   "outputs": [],
   "source": []
  }
 ],
 "metadata": {
  "kernelspec": {
   "display_name": "Python 3 (ipykernel)",
   "language": "python",
   "name": "python3"
  },
  "language_info": {
   "codemirror_mode": {
    "name": "ipython",
    "version": 3
   },
   "file_extension": ".py",
   "mimetype": "text/x-python",
   "name": "python",
   "nbconvert_exporter": "python",
   "pygments_lexer": "ipython3",
   "version": "3.11.5"
  }
 },
 "nbformat": 4,
 "nbformat_minor": 5
}
