{
 "cells": [
  {
   "cell_type": "markdown",
   "id": "5498e751",
   "metadata": {},
   "source": [
    "### 반복문\n",
    "- 프로그램 내에서 똑같은 명령을 일정 횟수만큼 반복하여 수행하도록 제어하는 명령/제어문\n",
    "    - <b>while문</b> : 반복횟수가 명확하지 않을 때 (True, False로 반복횟수를 조절하고 싶을 때)\n",
    "    - <b>for문</b> : 반복횟수가 명확할 때 (순서가 있는 자료구조를 대상으로 반복수행 할 때)"
   ]
  },
  {
   "cell_type": "markdown",
   "id": "fb546dcb",
   "metadata": {},
   "source": [
    "#### while문"
   ]
  },
  {
   "cell_type": "code",
   "execution_count": 1,
   "id": "4fc1d157",
   "metadata": {},
   "outputs": [
    {
     "name": "stdout",
     "output_type": "stream",
     "text": [
      "파이썬 최고\n",
      "파이썬 최고\n",
      "파이썬 최고\n",
      "파이썬 최고\n",
      "파이썬 최고\n",
      "파이썬 최고\n",
      "파이썬 최고\n",
      "파이썬 최고\n",
      "파이썬 최고\n",
      "파이썬 최고\n",
      "파이썬 최고\n",
      "파이썬 최고\n",
      "파이썬 최고\n"
     ]
    }
   ],
   "source": [
    "# while문을 사용해서 \"파이썬 최고를 13번 출력\"\n",
    "cnt = 1\n",
    "while cnt <= 13:\n",
    "    print(\"파이썬 최고\")\n",
    "    cnt += 1"
   ]
  },
  {
   "cell_type": "code",
   "execution_count": 4,
   "id": "545ac1ab",
   "metadata": {},
   "outputs": [
    {
     "name": "stdout",
     "output_type": "stream",
     "text": [
      "무한루프!\n",
      "파이썬최고 break\n",
      "파이썬최고 break\n",
      "파이썬최고 break\n",
      "파이썬최고 break\n",
      "파이썬최고 break\n",
      "파이썬최고 break\n",
      "파이썬최고 break\n",
      "파이썬최고 break\n",
      "파이썬최고 break\n",
      "파이썬최고 break\n",
      "파이썬최고 break\n",
      "파이썬최고 break\n"
     ]
    }
   ],
   "source": [
    "# while문 - break(반복문을 나가는 기능)\n",
    "# while문을 True로 사용할경우 보통 if문과 break를 같이 사용\n",
    "while True:\n",
    "    print(\"무한루프!\")\n",
    "    break\n",
    "    \n",
    "cnt = 1\n",
    "while True:\n",
    "    print(\"파이썬최고 break\")\n",
    "    cnt += 1\n",
    "    if cnt == 13:\n",
    "        break"
   ]
  },
  {
   "cell_type": "code",
   "execution_count": 3,
   "id": "af79c81e",
   "metadata": {},
   "outputs": [
    {
     "name": "stdout",
     "output_type": "stream",
     "text": [
      "첫 번째 정수 입력>> 3\n",
      "첫 번째 정수 입력>> 4\n",
      "두 정수의 합: 7\n",
      "첫 번째 정수 입력>> 0\n",
      "첫 번째 정수 입력>> 0\n",
      "두 정수의 합: 0\n",
      "프로그램이 종료되었습니다\n"
     ]
    }
   ],
   "source": [
    "#두개의 정수를 입력받아서 더하는 코드를 작성(단 두개의 정수가 둘다 0일경우 종료)\n",
    "while True:\n",
    "    num1 = int(input(\"첫 번째 정수 입력>> \"))\n",
    "    num2 = int(input(\"첫 번째 정수 입력>> \"))\n",
    "    add = num1 + num2\n",
    "    print(f\"두 정수의 합: {add}\")\n",
    "    if num1 == 0 and num2 ==0:\n",
    "       # continue: 조건식으로 다시 올라가서 반복 작업 수행\n",
    "       # break: 반복문을 탈출\n",
    "        \n",
    "        break\n",
    "print(\"프로그램이 종료되었습니다\")"
   ]
  },
  {
   "cell_type": "code",
   "execution_count": 1,
   "id": "e0c67b5d",
   "metadata": {},
   "outputs": [
    {
     "data": {
      "text/plain": [
       "(2, 1)"
      ]
     },
     "execution_count": 1,
     "metadata": {},
     "output_type": "execute_result"
    }
   ],
   "source": [
    "#치환\n",
    "#일반적인 치환은 temp변수 선언 후 값을 이동하는 식으로 진행\n",
    "A = 1\n",
    "B = 2\n",
    "temp = A\n",
    "A = B\n",
    "B = temp\n",
    "A,B"
   ]
  },
  {
   "cell_type": "code",
   "execution_count": 5,
   "id": "8de4295c",
   "metadata": {},
   "outputs": [
    {
     "data": {
      "text/plain": [
       "(4, 3, 2, 1)"
      ]
     },
     "execution_count": 5,
     "metadata": {},
     "output_type": "execute_result"
    }
   ],
   "source": [
    "#Python의 치환은 다중선언이 가능하여\n",
    "#아래와같이 다중선언으로 치환이 가능하다\n",
    "A = 1\n",
    "B = 2\n",
    "C = 3\n",
    "D = 4\n",
    "A,B,C, D = D, C, B,A\n",
    "A,B, C,D"
   ]
  },
  {
   "cell_type": "markdown",
   "id": "44ff5fe4",
   "metadata": {},
   "source": [
    "#### for 문"
   ]
  },
  {
   "cell_type": "code",
   "execution_count": 15,
   "id": "5bb4f922",
   "metadata": {},
   "outputs": [
    {
     "name": "stdout",
     "output_type": "stream",
     "text": [
      "안\n",
      "녕\n",
      "하\n",
      "세\n",
      "요\n"
     ]
    }
   ],
   "source": [
    "#문자열 for문 활용\n",
    "hi = '안녕하세요'\n",
    "for char in hi:\n",
    "    print(char)"
   ]
  },
  {
   "cell_type": "code",
   "execution_count": 16,
   "id": "a6823dcb",
   "metadata": {},
   "outputs": [
    {
     "name": "stdout",
     "output_type": "stream",
     "text": [
      "햄버거\n",
      "치킨\n",
      "피자\n"
     ]
    }
   ],
   "source": [
    "#튜블 for문\n",
    "tuple_food = ('햄버거', '치킨', '피자')\n",
    "for food in tuple_food:\n",
    "    print(food)"
   ]
  },
  {
   "cell_type": "code",
   "execution_count": 34,
   "id": "dc983901",
   "metadata": {},
   "outputs": [
    {
     "name": "stdout",
     "output_type": "stream",
     "text": [
      "1번 학생은 합격입니다\n",
      "2번 학생은 불합격입니다\n",
      "3번 학생은 합격입니다\n",
      "4번 학생은 합격입니다\n",
      "5번 학생은 불합격입니다\n"
     ]
    }
   ],
   "source": [
    "#5명에 대한 자격증 점수가 리스트에 담겨져있다.\n",
    "#이때, 각 점수가 합격인지 불학격인지 판별하여 출력 (60점 이상은 합격)\n",
    "score_list = [90, 45, 70, 60, 55]\n",
    "cnt = 0\n",
    "for score in score_list:\n",
    "    cnt += 1\n",
    "    if score >= 60:\n",
    "        score_pass = \"합격\"\n",
    "    else:\n",
    "        score_pass = \"불합격\"\n",
    "    print(f\"{cnt}번 학생은 {score_pass}입니다\")\n",
    "\n",
    "# enumerate() 함수는 리스트의 인덱스와 값을 같이 리턴해줌\n",
    "#for idx, score in enumerate(score_list):\n",
    "#    if score >= 60:\n",
    "#        print(idx+1, \"번 학생은 합격입니다\")\n",
    "#    else:\n",
    "#        print(idx+1, \"번 학생은 불합격입니다\")"
   ]
  },
  {
   "cell_type": "markdown",
   "id": "0f7609fd",
   "metadata": {},
   "source": [
    "#### range()\n",
    "- 필요한 만큼의 숫자를 만들어내는 함수 : 범위\n",
    "- range({시작값,} 끝값(미포함){, 증감량})\n",
    "    - 시작값과 증감량은 생략 가능\n",
    "    - 시작값 생략 시 default = 0, 증감량의 default = 1 (+1)"
   ]
  },
  {
   "cell_type": "code",
   "execution_count": 35,
   "id": "a33018a9",
   "metadata": {},
   "outputs": [
    {
     "name": "stdout",
     "output_type": "stream",
     "text": [
      "0 1 2 3 4 5 6 7 8 9 10 11 12 13 14 15 16 17 18 19 20 21 22 23 24 25 26 27 28 29 30 31 32 33 34 35 36 37 38 39 40 41 42 43 44 45 46 47 48 49 50 51 52 53 54 55 56 57 58 59 60 61 62 63 64 65 66 67 68 69 70 71 72 73 74 75 76 77 78 79 80 81 82 83 84 85 86 87 88 89 90 91 92 93 94 95 96 97 98 99 100 "
     ]
    }
   ],
   "source": [
    "for i in range(0,101, 1): #0 ~100까지의 범위(1씩 증가하는), 0, 1 은 생략해도 똑같은 값이나옴\n",
    "    print(i, end = \" \")\n",
    "\n"
   ]
  },
  {
   "cell_type": "code",
   "execution_count": 36,
   "id": "7dbe4fb4",
   "metadata": {},
   "outputs": [
    {
     "name": "stdout",
     "output_type": "stream",
     "text": [
      "1 2 3 4 5 6 7 8 9 "
     ]
    }
   ],
   "source": [
    "for i in range(1,10): #1~9의 범위\n",
    "    print(i, end = \" \")"
   ]
  },
  {
   "cell_type": "code",
   "execution_count": 37,
   "id": "7196c8e3",
   "metadata": {},
   "outputs": [
    {
     "name": "stdout",
     "output_type": "stream",
     "text": [
      "10 9 8 7 6 5 4 3 2 1 "
     ]
    }
   ],
   "source": [
    "for i in range(10, 0, -1): #10~1 의 범위\n",
    "    print(i, end= \" \")"
   ]
  },
  {
   "cell_type": "code",
   "execution_count": 43,
   "id": "9574980b",
   "metadata": {},
   "outputs": [
    {
     "data": {
      "text/plain": [
       "[10, 9, 8, 7, 6, 5, 4, 3, 2, 1]"
      ]
     },
     "execution_count": 43,
     "metadata": {},
     "output_type": "execute_result"
    }
   ],
   "source": [
    "# 슬라이싱도 스텝(증감)이 존재하나 생략 가능\n",
    "list1 = [1,2,3,4,5,6,7,8,9,10]\n",
    "list1[2:9:2] #2번째부터 9번째까지 인덱스를 2씩 증가해서 출력\n",
    "list1[::-1] #역으로 출력"
   ]
  },
  {
   "cell_type": "code",
   "execution_count": 50,
   "id": "348530a4",
   "metadata": {},
   "outputs": [
    {
     "name": "stdout",
     "output_type": "stream",
     "text": [
      "97 96 95 94 93 92 91 90 89 88 87 86 85 84 83 82 81 80 79 78 77 \n",
      "23 24 25 26 27 28 29 30 31 32 33 34 35 36 37 38 39 \n",
      "0 햄버거\n",
      "1 피자\n",
      "2 치킨\n"
     ]
    }
   ],
   "source": [
    "#for문을 이용해서 97~77까지 출력\n",
    "#for문을 이용해서 23~39까지 출력\n",
    "for i in range(97, 76, -1):\n",
    "    print(i, end = \" \")\n",
    "print()    \n",
    "for i in range (23, 40):\n",
    "    print(i, end= \" \")\n",
    "\n",
    "print()\n",
    "list_food=[\"햄버거\", \"피자\", \"치킨\"]\n",
    "for i in range(len(list_food)):\n",
    "    print(i, list_food[i])"
   ]
  },
  {
   "cell_type": "code",
   "execution_count": null,
   "id": "f4b77767",
   "metadata": {},
   "outputs": [],
   "source": []
  },
  {
   "cell_type": "code",
   "execution_count": null,
   "id": "dad1a487",
   "metadata": {},
   "outputs": [],
   "source": []
  },
  {
   "cell_type": "code",
   "execution_count": null,
   "id": "7d394a54",
   "metadata": {},
   "outputs": [],
   "source": []
  },
  {
   "cell_type": "code",
   "execution_count": null,
   "id": "d5700aad",
   "metadata": {},
   "outputs": [],
   "source": []
  },
  {
   "cell_type": "code",
   "execution_count": null,
   "id": "90066925",
   "metadata": {},
   "outputs": [],
   "source": []
  },
  {
   "cell_type": "code",
   "execution_count": null,
   "id": "07b3de3c",
   "metadata": {},
   "outputs": [],
   "source": []
  },
  {
   "cell_type": "code",
   "execution_count": null,
   "id": "1541abd9",
   "metadata": {},
   "outputs": [],
   "source": []
  },
  {
   "cell_type": "code",
   "execution_count": null,
   "id": "73ba3b57",
   "metadata": {},
   "outputs": [],
   "source": []
  },
  {
   "cell_type": "code",
   "execution_count": null,
   "id": "4e261cec",
   "metadata": {},
   "outputs": [],
   "source": []
  },
  {
   "cell_type": "code",
   "execution_count": null,
   "id": "b2388b74",
   "metadata": {},
   "outputs": [],
   "source": []
  },
  {
   "cell_type": "code",
   "execution_count": null,
   "id": "4447d144",
   "metadata": {},
   "outputs": [],
   "source": []
  },
  {
   "cell_type": "code",
   "execution_count": null,
   "id": "8ee6902e",
   "metadata": {},
   "outputs": [],
   "source": []
  }
 ],
 "metadata": {
  "kernelspec": {
   "display_name": "Python 3 (ipykernel)",
   "language": "python",
   "name": "python3"
  },
  "language_info": {
   "codemirror_mode": {
    "name": "ipython",
    "version": 3
   },
   "file_extension": ".py",
   "mimetype": "text/x-python",
   "name": "python",
   "nbconvert_exporter": "python",
   "pygments_lexer": "ipython3",
   "version": "3.11.5"
  }
 },
 "nbformat": 4,
 "nbformat_minor": 5
}
