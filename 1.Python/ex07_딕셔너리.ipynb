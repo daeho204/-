{
 "cells": [
  {
   "cell_type": "markdown",
   "id": "2a82ca09",
   "metadata": {},
   "source": [
    "### 딕셔너리(dictionary)\n",
    "- {key:value, key:value ....}\n",
    "- 기호는 \"{ }\", 내부 요소 구분은 \" , \", key와 value 구분은 \" : \""
   ]
  },
  {
   "cell_type": "code",
   "execution_count": 15,
   "id": "9dd6ba02",
   "metadata": {},
   "outputs": [
    {
     "data": {
      "text/plain": [
       "{'key': 'value', 'name': 'BG', 'age': 20, 'phone': '010-1234-5678'}"
      ]
     },
     "execution_count": 15,
     "metadata": {},
     "output_type": "execute_result"
    }
   ],
   "source": [
    "# 딕셔너리 생성\n",
    "dic1 = {\"key\":\"value\", 'name':'BG', 'age':20, 'phone':'010-1234-5678'}\n",
    "dic1"
   ]
  },
  {
   "cell_type": "code",
   "execution_count": 19,
   "id": "37ed13d3",
   "metadata": {},
   "outputs": [
    {
     "data": {
      "text/plain": [
       "{'key': 'value', 'name': 'BG', 'phone': '010-5678-1234', 'birth': '0307'}"
      ]
     },
     "execution_count": 19,
     "metadata": {},
     "output_type": "execute_result"
    }
   ],
   "source": [
    "# 딕셔너리 추가 & 수정\n",
    "# 지정하고 대입\n",
    "\n",
    "#추가\n",
    "dic1[\"birth\"] = \"0307\"\n",
    "dic1\n",
    "\n",
    "#수정\n",
    "dic1[\"phone\"] = '010-5678-1234'\n",
    "dic1\n",
    "\n",
    "#삭제\n",
    "del dic1['age']\n",
    "dic1\n"
   ]
  },
  {
   "cell_type": "code",
   "execution_count": 29,
   "id": "17490e44",
   "metadata": {},
   "outputs": [
    {
     "ename": "KeyError",
     "evalue": "'age'",
     "output_type": "error",
     "traceback": [
      "\u001b[1;31m---------------------------------------------------------------------------\u001b[0m",
      "\u001b[1;31mKeyError\u001b[0m                                  Traceback (most recent call last)",
      "Cell \u001b[1;32mIn[29], line 2\u001b[0m\n\u001b[0;32m      1\u001b[0m \u001b[38;5;66;03m# 딕셔너리 인덱싱\u001b[39;00m\n\u001b[1;32m----> 2\u001b[0m dic1[\u001b[38;5;124m'\u001b[39m\u001b[38;5;124mage\u001b[39m\u001b[38;5;124m'\u001b[39m]  \u001b[38;5;66;03m#없는 키값을 입력하면 에러가난다\u001b[39;00m\n\u001b[0;32m      3\u001b[0m dic1\u001b[38;5;241m.\u001b[39mget(\u001b[38;5;124m'\u001b[39m\u001b[38;5;124mage\u001b[39m\u001b[38;5;124m'\u001b[39m)\n",
      "\u001b[1;31mKeyError\u001b[0m: 'age'"
     ]
    }
   ],
   "source": [
    "# 딕셔너리 인덱싱\n",
    "dic1['age']  # 없는 key값을 입력하면 error\n",
    "\n",
    "dic1.get('age') # 없는 key값을 입력하면 get()함수는 에러처리를 도와준다\n"
   ]
  },
  {
   "cell_type": "code",
   "execution_count": 33,
   "id": "04e69c0a",
   "metadata": {},
   "outputs": [
    {
     "data": {
      "text/plain": [
       "['key', 'name', 'phone', 'birth']"
      ]
     },
     "execution_count": 33,
     "metadata": {},
     "output_type": "execute_result"
    }
   ],
   "source": [
    "# key값들만 가져오기 # .keys()함수\n",
    "dic1.keys()\n",
    "type(dic1.keys())\n",
    "dic1.keys()\n",
    "\n",
    "# dict type은 순서가 없음 -> 인덱스가 없음 -> 정수 인덱싱이 불가능함\n",
    "# list로 형변환을 해서 다룰 수 있음\n",
    "list(dic1.keys())"
   ]
  },
  {
   "cell_type": "code",
   "execution_count": 35,
   "id": "728d0dc7",
   "metadata": {},
   "outputs": [
    {
     "data": {
      "text/plain": [
       "['value', 'BG', '010-5678-1234', '0307']"
      ]
     },
     "execution_count": 35,
     "metadata": {},
     "output_type": "execute_result"
    }
   ],
   "source": [
    "# value들만 가져오기\n",
    "dic1.values()\n",
    "# value들은 key값으로 인덱싱 해도 되지만 key처럼 list로 형변환해서 정수인덱싱이 가능\n",
    "list(dic1.values())"
   ]
  },
  {
   "cell_type": "code",
   "execution_count": 37,
   "id": "2f2890cf",
   "metadata": {},
   "outputs": [
    {
     "data": {
      "text/plain": [
       "[('key', 'value'),\n",
       " ('name', 'BG'),\n",
       " ('phone', '010-5678-1234'),\n",
       " ('birth', '0307')]"
      ]
     },
     "execution_count": 37,
     "metadata": {},
     "output_type": "execute_result"
    }
   ],
   "source": [
    "# key, value 값들 가져오기\n",
    "#리턴을 튜블 형태로 해줌\n",
    "dic1.items()\n",
    "# 이또한 list로 형변환 가능\n",
    "list(dic1.items())"
   ]
  },
  {
   "cell_type": "code",
   "execution_count": 44,
   "id": "c743aedb",
   "metadata": {},
   "outputs": [
    {
     "name": "stdout",
     "output_type": "stream",
     "text": [
      "key\n",
      "name\n",
      "phone\n",
      "birth\n",
      "\n",
      "value\n",
      "BG\n",
      "010-5678-1234\n",
      "0307\n",
      "\n",
      "key value\n",
      "name BG\n",
      "phone 010-5678-1234\n",
      "birth 0307\n"
     ]
    }
   ],
   "source": [
    "# dictionary는 순서가 없지만 for문 사용이 가능하다\n",
    "# key값을 받는 for문\n",
    "for key in dic1.keys():\n",
    "    print(key)\n",
    "print()\n",
    "\n",
    "# value값을 받는 for문\n",
    "for value in dic1.values():\n",
    "    print(value)\n",
    "print()\n",
    "\n",
    "# key, value 둘다 값을 받는 for문\n",
    "for key,value in dic1.items():\n",
    "    print(key,value)\n",
    "    \n"
   ]
  },
  {
   "cell_type": "code",
   "execution_count": null,
   "id": "2ea1bc0f",
   "metadata": {},
   "outputs": [],
   "source": [
    "# score dict로 부터 아래 문제를 해결하는 프로그램을 완성하시오"
   ]
  },
  {
   "cell_type": "code",
   "execution_count": 7,
   "id": "49f04231",
   "metadata": {},
   "outputs": [
    {
     "data": {
      "text/plain": [
       "dict_values([['안현진', '김민수', '박병관', '박수현', '주미리'], [90, 100, 85, 90, 80], [85, 80, 100, 95, 85], [75, 70, 90, 80, 90]])"
      ]
     },
     "execution_count": 7,
     "metadata": {},
     "output_type": "execute_result"
    }
   ],
   "source": [
    "score_dict = {\"이름\" : [\"안현진\", \"김민수\", \"박병관\", \"박수현\", \"주미리\"],\n",
    "             \"Python\" : [90,100,85,90,80], \n",
    "             \"Java\" : [85,80,100,95,85],\n",
    "             \"html/css\" : [75,70,90,80,90]}\n",
    "\n",
    "score_dict\n",
    "(score_dict.values())"
   ]
  },
  {
   "cell_type": "code",
   "execution_count": 4,
   "id": "2888cc8a",
   "metadata": {},
   "outputs": [
    {
     "name": "stdout",
     "output_type": "stream",
     "text": [
      "89.0\n"
     ]
    }
   ],
   "source": [
    "# Python과목 평균구하기\n",
    "python_list = list(score_dict.values())[1]\n",
    "python_list\n",
    "py_avg = sum(python_list)/len(python_list)\n",
    "print(py_avg)\n",
    "\n",
    "#avg_py = sum(score_dict[\"Python\"])/len(score_dict[\"Python\"])"
   ]
  },
  {
   "cell_type": "code",
   "execution_count": 35,
   "id": "76833e91",
   "metadata": {},
   "outputs": [
    {
     "name": "stdout",
     "output_type": "stream",
     "text": [
      "Python 평균: 89.0 \n",
      "Java 평균: 89.0 \n",
      "html/css 평균: 81.0\n"
     ]
    }
   ],
   "source": [
    "#각 과목 평균 구하기\n",
    "py_avg, j_avg, h_avg = 0,0,0\n",
    "\n",
    "for key in score_dict.keys():\n",
    "    if key == \"Python\":\n",
    "        py_avg = sum(score_dict[key])/len(score_dict[key])\n",
    "    elif key == 'Java':\n",
    "        j_avg = sum(score_dict[key])/len(score_dict[key])\n",
    "    elif key == 'html/css':\n",
    "        h_avg = sum(score_dict[key])/len(score_dict[key])\n",
    "print(f\"Python 평균: {py_avg} \\nJava 평균: {j_avg} \\nhtml/css 평균: {h_avg}\")\n",
    "    "
   ]
  },
  {
   "cell_type": "code",
   "execution_count": 47,
   "id": "622ffb6e",
   "metadata": {},
   "outputs": [
    {
     "name": "stdout",
     "output_type": "stream",
     "text": [
      "Python의 평균 : 89.0\n",
      "Java의 평균 : 89.0\n",
      "html/css의 평균 : 81.0\n",
      "이름\n",
      "Python\n",
      "Java\n",
      "html/css\n"
     ]
    }
   ],
   "source": [
    "#리스트로 형변환해서 불필요한 인덱스(\"이름\")를 제외하는 슬라이싱\n",
    "key_list = list(score_dict.keys())[1:]\n",
    "key_list\n",
    "\n",
    "for key in key_list:\n",
    "    avg = sum(score_dict[key])/len(score_dict[key])\n",
    "    print(f\"{key}의 평균 : {avg}\")\n",
    "\n"
   ]
  },
  {
   "cell_type": "code",
   "execution_count": null,
   "id": "0690deb9",
   "metadata": {},
   "outputs": [],
   "source": []
  },
  {
   "cell_type": "code",
   "execution_count": null,
   "id": "fc053fac",
   "metadata": {},
   "outputs": [],
   "source": []
  },
  {
   "cell_type": "code",
   "execution_count": null,
   "id": "e1d4bebc",
   "metadata": {},
   "outputs": [],
   "source": []
  },
  {
   "cell_type": "code",
   "execution_count": null,
   "id": "c2059f2b",
   "metadata": {},
   "outputs": [],
   "source": []
  },
  {
   "cell_type": "code",
   "execution_count": null,
   "id": "53191e63",
   "metadata": {},
   "outputs": [],
   "source": []
  },
  {
   "cell_type": "code",
   "execution_count": null,
   "id": "e5906c21",
   "metadata": {},
   "outputs": [],
   "source": []
  },
  {
   "cell_type": "code",
   "execution_count": null,
   "id": "20f049c1",
   "metadata": {},
   "outputs": [],
   "source": []
  },
  {
   "cell_type": "code",
   "execution_count": null,
   "id": "81bc4ee6",
   "metadata": {},
   "outputs": [],
   "source": []
  },
  {
   "cell_type": "code",
   "execution_count": null,
   "id": "9e3d66d9",
   "metadata": {},
   "outputs": [],
   "source": []
  },
  {
   "cell_type": "code",
   "execution_count": null,
   "id": "3575a7f8",
   "metadata": {},
   "outputs": [],
   "source": []
  },
  {
   "cell_type": "code",
   "execution_count": null,
   "id": "5af5f304",
   "metadata": {},
   "outputs": [],
   "source": []
  },
  {
   "cell_type": "code",
   "execution_count": null,
   "id": "fe21776d",
   "metadata": {},
   "outputs": [],
   "source": []
  },
  {
   "cell_type": "code",
   "execution_count": null,
   "id": "3ba58333",
   "metadata": {},
   "outputs": [],
   "source": []
  },
  {
   "cell_type": "code",
   "execution_count": null,
   "id": "18ae6f54",
   "metadata": {},
   "outputs": [],
   "source": []
  },
  {
   "cell_type": "code",
   "execution_count": null,
   "id": "ecff9c3f",
   "metadata": {},
   "outputs": [],
   "source": []
  },
  {
   "cell_type": "code",
   "execution_count": null,
   "id": "d3e2a8cf",
   "metadata": {},
   "outputs": [],
   "source": []
  },
  {
   "cell_type": "code",
   "execution_count": null,
   "id": "68e7cba9",
   "metadata": {},
   "outputs": [],
   "source": []
  },
  {
   "cell_type": "code",
   "execution_count": null,
   "id": "1a954ff5",
   "metadata": {},
   "outputs": [],
   "source": []
  },
  {
   "cell_type": "code",
   "execution_count": null,
   "id": "871ee3d7",
   "metadata": {},
   "outputs": [],
   "source": []
  },
  {
   "cell_type": "code",
   "execution_count": null,
   "id": "b27f0dcb",
   "metadata": {},
   "outputs": [],
   "source": []
  }
 ],
 "metadata": {
  "kernelspec": {
   "display_name": "Python 3 (ipykernel)",
   "language": "python",
   "name": "python3"
  },
  "language_info": {
   "codemirror_mode": {
    "name": "ipython",
    "version": 3
   },
   "file_extension": ".py",
   "mimetype": "text/x-python",
   "name": "python",
   "nbconvert_exporter": "python",
   "pygments_lexer": "ipython3",
   "version": "3.11.5"
  }
 },
 "nbformat": 4,
 "nbformat_minor": 5
}
