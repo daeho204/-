{
 "cells": [
  {
   "cell_type": "markdown",
   "id": "b0c37557",
   "metadata": {},
   "source": [
    "### 함수(fuction)\n",
    "- 호출 될 때 특정 기능을 실행하는 재사용 가능한 코드 블록\n",
    "\n",
    "#### 함수의 목적\n",
    "- 반복적인 프로그래밍 회피\n",
    "- 모듈화를 통해 코드의 가독성이 향상\n",
    "- 편리한 유지보수 (기능변경시, 문제 발생시)"
   ]
  },
  {
   "cell_type": "code",
   "execution_count": 5,
   "id": "0ac4258e",
   "metadata": {},
   "outputs": [
    {
     "data": {
      "text/plain": [
       "3"
      ]
     },
     "execution_count": 5,
     "metadata": {},
     "output_type": "execute_result"
    }
   ],
   "source": [
    "# 함수 정의\n",
    "\n",
    "def number_sum(num1, num2):\n",
    "    result = num1 + num2\n",
    "    return result\n",
    "\n",
    "# 함수 호출\n",
    "number_sum(1,2)"
   ]
  },
  {
   "cell_type": "code",
   "execution_count": 6,
   "id": "a4af8526",
   "metadata": {},
   "outputs": [
    {
     "name": "stdout",
     "output_type": "stream",
     "text": [
      "첫번째 정수 입력 >>> 3\n",
      "두번째 정수 입력 >>> 4\n",
      "-1\n"
     ]
    }
   ],
   "source": [
    "# 실습\n",
    "# 1. 두 수를 입력받아서 뺀 결과를 return 하는 함수를 정의\n",
    "def number_sub(num1, num2):\n",
    "    result = num1 - num2\n",
    "    return result\n",
    "\n",
    "num1 = int(input(\"첫번째 정수 입력 >>> \"))\n",
    "num2 = int(input(\"두번째 정수 입력 >>> \"))\n",
    "\n",
    "result = number_sub(num1, num2)\n",
    "print(result)"
   ]
  },
  {
   "cell_type": "code",
   "execution_count": 51,
   "id": "7cab1c59",
   "metadata": {},
   "outputs": [
    {
     "name": "stdout",
     "output_type": "stream",
     "text": [
      "문자열 입력 >>> ㅁㄴㅇㅋㅋㅋ\n",
      "ㅁㄴㅇ\n"
     ]
    }
   ],
   "source": [
    "# 2. 문자열을 입력받아서 'ㅋ' 이라는 문자를 제거하고 리턴하는 함수\n",
    "def z_remover(str1):\n",
    "    '''ㅋ을 제거하는 함수이다'''\n",
    "    result = str1.replace('ㅋ', '')\n",
    "    return result\n",
    "s= input(\"문자열 입력 >>> \")\n",
    "result = z_remover(s)\n",
    "print(result)\n",
    "\n"
   ]
  },
  {
   "cell_type": "code",
   "execution_count": 19,
   "id": "fbfae92e",
   "metadata": {},
   "outputs": [
    {
     "name": "stdout",
     "output_type": "stream",
     "text": [
      "486 password\n"
     ]
    }
   ],
   "source": [
    "import re\n",
    "print(re.sub('([a-z]+) ([0-9]+)', '\\\\1 \\\\2 \\\\1 \\\\2', '486 password'))\n"
   ]
  },
  {
   "cell_type": "code",
   "execution_count": 24,
   "id": "2559f1f8",
   "metadata": {},
   "outputs": [
    {
     "name": "stdout",
     "output_type": "stream",
     "text": [
      "문자열 입력 >>> zzzㅋㅋㅋzzzㅁㅁㅋㅋ\n",
      "zzzzzzㅁㅁ\n"
     ]
    }
   ],
   "source": [
    "#replace()함수를 안쓴다면 이런 알고리즘으로도 가능\n",
    "def z_remover2(str1):\n",
    "    \n",
    "    result = \"\"\n",
    "    for char in s:\n",
    "        if char != 'ㅋ':\n",
    "            result += char\n",
    "        \n",
    "    return result\n",
    "\n",
    "s= input(\"문자열 입력 >>> \")\n",
    "result = z_remover2(s)\n",
    "print(result)"
   ]
  },
  {
   "cell_type": "markdown",
   "id": "119f3bc3",
   "metadata": {},
   "source": [
    "### 독스트링(docstring)\n",
    "- 함수 설명 작성기능\n",
    "- \"\"\" 설명문작성 \"\"\""
   ]
  },
  {
   "cell_type": "markdown",
   "id": "bdaba0ee",
   "metadata": {},
   "source": [
    "### 가변 매개변수(*)\n",
    "- 함수 호출 시 몇개의 인자가 전달될 지 알 수 없다면, 사용자가 직접 매개변수의 개수를 정할 수 있도록 선언"
   ]
  },
  {
   "cell_type": "code",
   "execution_count": 59,
   "id": "f5d1a870",
   "metadata": {},
   "outputs": [
    {
     "name": "stdout",
     "output_type": "stream",
     "text": [
      "(1, 2, 3, 4, 5, 6)\n"
     ]
    },
    {
     "data": {
      "text/plain": [
       "21"
      ]
     },
     "execution_count": 59,
     "metadata": {},
     "output_type": "execute_result"
    }
   ],
   "source": [
    "# sum()은 매개변수 하나(리스트,튜플) 만 가능\n",
    "# 여러개의 변수를 받을 수 있도록 변경\n",
    "\n",
    "def add(*args): #가변매개변수\n",
    "    print(args) #함수 내부에서는 '튜플'형태로 다뤄지게 됨\n",
    "    return sum(args)\n",
    "add(1,2,3,4,5,6)"
   ]
  },
  {
   "cell_type": "markdown",
   "id": "8cf1f007",
   "metadata": {},
   "source": [
    "### 키워드 가변 매개변수(**)\n",
    "- 함수 호출 시 몇개의 인자가 전달될 지 알 수 없다면, 사용자가 직접 매개변수의 개수를 정할 수 있도록 선언\n",
    "- 딕셔너리(Dictionary)형태로 패킹됨"
   ]
  },
  {
   "cell_type": "code",
   "execution_count": 64,
   "id": "4227abd8",
   "metadata": {},
   "outputs": [
    {
     "name": "stdout",
     "output_type": "stream",
     "text": [
      "{'one': 1, 'two': 2, 'three': 3}\n"
     ]
    }
   ],
   "source": [
    "def print_map(**kargs):\n",
    "    print(kargs)\n",
    "    \n",
    "print_map(one = 1, two = 2, three = 3)"
   ]
  },
  {
   "cell_type": "code",
   "execution_count": null,
   "id": "c877c820",
   "metadata": {},
   "outputs": [],
   "source": []
  },
  {
   "cell_type": "code",
   "execution_count": null,
   "id": "f3d46278",
   "metadata": {},
   "outputs": [],
   "source": []
  },
  {
   "cell_type": "code",
   "execution_count": null,
   "id": "dc8b27af",
   "metadata": {},
   "outputs": [],
   "source": []
  },
  {
   "cell_type": "code",
   "execution_count": null,
   "id": "c448cf52",
   "metadata": {},
   "outputs": [],
   "source": []
  },
  {
   "cell_type": "code",
   "execution_count": null,
   "id": "2a6158cb",
   "metadata": {},
   "outputs": [],
   "source": []
  },
  {
   "cell_type": "code",
   "execution_count": null,
   "id": "f4472fbf",
   "metadata": {},
   "outputs": [],
   "source": []
  }
 ],
 "metadata": {
  "kernelspec": {
   "display_name": "Python 3 (ipykernel)",
   "language": "python",
   "name": "python3"
  },
  "language_info": {
   "codemirror_mode": {
    "name": "ipython",
    "version": 3
   },
   "file_extension": ".py",
   "mimetype": "text/x-python",
   "name": "python",
   "nbconvert_exporter": "python",
   "pygments_lexer": "ipython3",
   "version": "3.11.5"
  }
 },
 "nbformat": 4,
 "nbformat_minor": 5
}
